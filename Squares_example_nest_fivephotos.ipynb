{
 "cells": [
  {
   "cell_type": "code",
   "execution_count": 5,
   "metadata": {},
   "outputs": [],
   "source": [
    "#import the necessary modules\n",
    "import numpy as np\n",
    "import cv2\n",
    "import matplotlib.pyplot as plt\n",
    "import pandas as pd\n",
    "from shapely.geometry import Point\n",
    "from shapely.geometry.polygon import Polygon\n",
    "from numpy  import array\n",
    "from random import randrange\n",
    "from imutils import paths\n",
    "import timeit\n",
    "#load the image\n",
    "#img_original = cv2.imread('/mnt/ubuntu_disk/Ubuntu_drive/Nests/Images/Nid1HQ.jpg')\n",
    "#plt.imshow(img_original)\n",
    "#function to convert the cell (string) to list of coordinates (x,y) in order to\n",
    "#be easier to extract the coordinates later\n",
    "def Convert(string): \n",
    "    li = list(string.split(\",\")) \n",
    "    return li "
   ]
  },
  {
   "cell_type": "code",
   "execution_count": 6,
   "metadata": {},
   "outputs": [
    {
     "data": {
      "text/plain": [
       "['/mnt/ubuntu_disk/Ubuntu_drive/Nests/Images/Nid3MQ.jpg',\n",
       " '/mnt/ubuntu_disk/Ubuntu_drive/Nests/Images/Nid4HQ.jpg',\n",
       " '/mnt/ubuntu_disk/Ubuntu_drive/Nests/Images/Nid4MQ.jpg',\n",
       " '/mnt/ubuntu_disk/Ubuntu_drive/Nests/Images/Nid5HQ.jpg',\n",
       " '/mnt/ubuntu_disk/Ubuntu_drive/Nests/Images/Nid5MQ.jpg']"
      ]
     },
     "execution_count": 6,
     "metadata": {},
     "output_type": "execute_result"
    }
   ],
   "source": [
    "nests_folder=\"/mnt/ubuntu_disk/Ubuntu_drive/Nests/Images\"\n",
    "imagePathsnests = sorted(list(paths.list_images(nests_folder)))\n",
    "imagePathsnests"
   ]
  },
  {
   "cell_type": "code",
   "execution_count": 7,
   "metadata": {},
   "outputs": [],
   "source": [
    "#imagePathsnests=imagePathsnests[2:10]"
   ]
  },
  {
   "cell_type": "code",
   "execution_count": 8,
   "metadata": {},
   "outputs": [
    {
     "data": {
      "text/plain": [
       "['/mnt/ubuntu_disk/Ubuntu_drive/Nests/Images/Nid3MQ.jpg',\n",
       " '/mnt/ubuntu_disk/Ubuntu_drive/Nests/Images/Nid4HQ.jpg',\n",
       " '/mnt/ubuntu_disk/Ubuntu_drive/Nests/Images/Nid4MQ.jpg',\n",
       " '/mnt/ubuntu_disk/Ubuntu_drive/Nests/Images/Nid5HQ.jpg',\n",
       " '/mnt/ubuntu_disk/Ubuntu_drive/Nests/Images/Nid5MQ.jpg']"
      ]
     },
     "execution_count": 8,
     "metadata": {},
     "output_type": "execute_result"
    }
   ],
   "source": [
    "imagePathsnests"
   ]
  },
  {
   "cell_type": "code",
   "execution_count": null,
   "metadata": {},
   "outputs": [],
   "source": [
    "#opencv opens the image with the wrong colour channels\n",
    "#this code corrects that\n",
    "start = timeit.default_timer()\n",
    "for image_path in imagePathsnests:\n",
    "    img_original=cv2.imread(image_path)\n",
    "    img=cv2.cvtColor(img_original, cv2.COLOR_BGR2RGB)\n",
    "    #loop\n",
    "    #load of the manually annotated polygons using VGG annotator\n",
    "    df_original= pd.read_csv(\"/mnt/ubuntu_disk/Ubuntu_drive/Nests/Images/FiveNestAnnotedTest2.csv\")\n",
    "    #select only the current image\n",
    "    df=df_original[df_original[\"filename\"]==image_path.split(\"/\")[-1:][0]]\n",
    "    #print dataframe\n",
    "    #print(df)\n",
    "    #loop through all lines of the df to get the coordinates of all polygons for same image\n",
    "    #create a list to store all xx and all yy of all polygons\n",
    "    all_coordx=[]\n",
    "    all_coordy=[]\n",
    "    #reset the index of the line so that the next loop doesn't give error\n",
    "    df=df.reset_index()\n",
    "    for d in range(0, len(df)):\n",
    "    #remove the text that is not needed and keep only the coordinates\n",
    "        coord=df[\"region_shape_attributes\"][d].replace('{\"name\":\"polygon\",\"all_points_x\":', \"\")\n",
    "        coord=coord.replace(',\"all_points_y\":', \"\")\n",
    "        coord=coord.replace(']', \"\")\n",
    "        coord=coord.replace('}', \"\")\n",
    "        #create a list for the xx coordinates and another for the yy coordinates\n",
    "        coordx=coord.split(\"[\")[1]\n",
    "        coordx=Convert(coordx)\n",
    "        coordy=coord.split(\"[\")[2]\n",
    "        coordy=Convert(coordy)\n",
    "        all_coordx.append(coordx)\n",
    "        all_coordy.append(coordy)\n",
    "    window=10\n",
    "    square_index=1\n",
    "    #double loop to go through all polygons and within each polygon create a list with all points\n",
    "    for p in range(0,len(all_coordx)):\n",
    "        #create a final list by merging the xx and yy lists\n",
    "        polycoordinates=[]\n",
    "        coordx=all_coordx[p]\n",
    "        coordy=all_coordy[p]\n",
    "        for i in range(len(coordx)):\n",
    "            polycoordinates.append([coordx[i],coordy[i]])\n",
    "            #convert to array in order to extract the background later\n",
    "        polycoordinates = array(polycoordinates, np.int32)\n",
    "        #Crop the bounding box of the polygon\n",
    "        rect = cv2.boundingRect(polycoordinates)\n",
    "        x,y,w,h = rect\n",
    "        croped = img_original[y:y+h, x:x+w].copy()\n",
    "        # create a mask corresponding to the area of the selected polygon\n",
    "        polycoordinates = polycoordinates - polycoordinates.min(axis=0)\n",
    "        mask = np.zeros(croped.shape[:2], np.uint8)\n",
    "        cv2.drawContours(mask, [polycoordinates], -1, (255, 255, 255), -1, cv2.LINE_AA)\n",
    "        #remove the background\n",
    "        dst = cv2.bitwise_and(croped, croped, mask=mask)\n",
    "        #re-convert the polygon array to list again in order to\n",
    "        #use the functions from the shapely module. this module includes a function\n",
    "        #that allows to check if a point is inside a polygon, using functions \"Point(x,y)\"\n",
    "        #and \"Polygon(list_of_coordinates)\"\n",
    "        polygon_x=[]\n",
    "        for j in range(0,len(polycoordinates)):\n",
    "            polygon_x.append((polycoordinates[j][0],polycoordinates[j][1]))\n",
    "        #convert to polygon object type of shapely module\n",
    "        poly_final=Polygon(polygon_x)\n",
    "        #this loop makes random squares and\n",
    "        #keeps the ones that are inside the region of finterest\n",
    "        #create a copy of the image for ilustration\n",
    "        dst_test=dst.copy()\n",
    "        \n",
    "\n",
    "        #get maximum length\n",
    "        max_size=max(dst.shape)\n",
    "        r=[0.2,0.25,0.3,0.35,0.4,0.45,0.5]\n",
    "        for ri in r:\n",
    "            size=max_size*ri\n",
    "            #loop until it reaches the number of squares needed\n",
    "            #create a variable to save the yy point\n",
    "            #current_yy=0\n",
    "            #number of squares needed\n",
    "            attempts=0\n",
    "            #create a list to store the squares\n",
    "            squares=[]\n",
    "            num_squares=50\n",
    "            print(ri)\n",
    "\n",
    "            #loop until it reaches the number of squares needed\n",
    "            while len(squares)<num_squares:\n",
    "                if attempts>2000:\n",
    "                    break\n",
    "                print(attempts)\n",
    "                #randomly chose a x and a y coordinates\n",
    "                current_xx=randrange(0, dst.shape[0])\n",
    "                current_yy=randrange(0, dst.shape[1])\n",
    "                #randomly chose the length of the edges of the square (in this case between 10 to 50)\n",
    "                #get all points inside the randomly determined square\n",
    "                X, Y = np.mgrid[current_xx:current_xx+size, current_yy:current_yy+size]\n",
    "                points=np.vstack((X.ravel(), Y.ravel()))\n",
    "                #variable to note if all points are inside the polygon of interest\n",
    "                all_true=1\n",
    "                attempts=attempts+1\n",
    "                #loop through all points and if any of the points is outside of the \n",
    "                #region of interest change \"all_true\" variable to 0\n",
    "                for ii in range(0, len(points[0])):\n",
    "                    if poly_final.contains((Point(points[0][ii], points[1][ii]))) == False:\n",
    "                        all_true=0\n",
    "                        break\n",
    "                #only if all_true=1 include that square in the list\n",
    "                if all_true==1:\n",
    "                    squares.append([(round(current_xx),round(current_yy)),(round(current_xx+size),round(current_yy+size))])\n",
    "                    cropped=dst_test[round(current_yy):round(current_yy)+round(size),round(current_xx):round(current_xx)+round(size)]\n",
    "                    #export cropped image to a folder\n",
    "                    print(len(squares))\n",
    "                    filename=\"/mnt/ubuntu_disk/Ubuntu_drive/Nests/Results/\"\n",
    "                    filename=filename+image_path.split(\"/\")[-1:][0].split(\".\")[0]+\"_\"+\"Polygon\"+str(p+1)+\"_\"+str(ri)+\"_\"+str(square_index)+\".jpg\"\n",
    "                    print(filename)\n",
    "                    square_index=square_index+1\n",
    "                    cv2.imwrite(filename, cropped)\n",
    "            finaltest=dst.copy()\n",
    "            for i in range(0, len(squares)):\n",
    "                finaltest=cv2.rectangle(finaltest,squares[i][0], squares[i][1],(0,255,0),3)\n",
    "            filename_final=\"/mnt/ubuntu_disk/Ubuntu_drive/Nests/Results/\"\n",
    "            filename_final=filename_final+image_path.split(\"/\")[-1:][0].split(\".\")[0]+\"_\"+\"Polygon\"+str(p+1)+\"_\"+str(ri)+\"_\"+\"Final\"+\".jpg\"\n",
    "            cv2.imwrite(filename_final, finaltest)\n",
    "stop = timeit.default_timer()\n",
    "\n",
    "print('Time: ', stop - start)"
   ]
  }
 ],
 "metadata": {
  "kernelspec": {
   "display_name": "Python 3",
   "language": "python",
   "name": "python3"
  },
  "language_info": {
   "codemirror_mode": {
    "name": "ipython",
    "version": 3
   },
   "file_extension": ".py",
   "mimetype": "text/x-python",
   "name": "python",
   "nbconvert_exporter": "python",
   "pygments_lexer": "ipython3",
   "version": "3.6.8"
  }
 },
 "nbformat": 4,
 "nbformat_minor": 2
}
